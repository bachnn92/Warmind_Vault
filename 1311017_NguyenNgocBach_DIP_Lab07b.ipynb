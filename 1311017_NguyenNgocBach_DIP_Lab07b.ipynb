{
  "nbformat": 4,
  "nbformat_minor": 0,
  "metadata": {
    "colab": {
      "name": "1311017-NguyenNgocBach-DIP-Lab07b",
      "version": "0.3.2",
      "provenance": [],
      "collapsed_sections": []
    },
    "kernelspec": {
      "name": "python3",
      "display_name": "Python 3"
    }
  },
  "cells": [
    {
      "cell_type": "code",
      "metadata": {
        "colab_type": "code",
        "id": "Qo9uRJP7NzO_",
        "colab": {}
      },
      "source": [
        "def imshows(ImageData, LabelData, rows, cols, gridType = True):\n",
        "  ImageArray = list(ImageData)\n",
        "  LabelArray = list(LabelData)\n",
        "  from matplotlib import pyplot as plt\n",
        "  fig = plt.figure(figsize=(10,10))\n",
        "  for i in range(1, cols*rows +1):\n",
        "    fig.add_subplot(rows, cols, i)\n",
        "    image = ImageArray[i - 1]\n",
        "    if (len(image.shape)<3):\n",
        "      plt.imshow(image, plt.cm.gray)\n",
        "      plt.grid(gridType)\n",
        "    else:\n",
        "      plt.imshow(image)\n",
        "      plt.grid(gridType)\n",
        "    plt.title(LabelArray[i-1])\n",
        "  plt.show()\n",
        " "
      ],
      "execution_count": 0,
      "outputs": []
    },
    {
      "cell_type": "code",
      "metadata": {
        "colab_type": "code",
        "id": "Bj0nDcVVNz1u",
        "colab": {}
      },
      "source": [
        "from google.colab import drive\n",
        "drive.mount('/content/gdrive')\n",
        "linken = \"gdirve/My Drive/TTH_Digital_Image_Processing/Dataset_07/\""
      ],
      "execution_count": 0,
      "outputs": []
    },
    {
      "cell_type": "code",
      "metadata": {
        "id": "BRai_lwDSCho",
        "colab_type": "code",
        "colab": {}
      },
      "source": [
        "import os\n",
        "linken = \"gdrive/My Drive/TTH_Digital_Image_Processing/Dataset_07/\"\n",
        "print(os.path.isdir(linken))\n",
        "print(os.path.isfile(linken + \"cat.jpg\"))\n",
        "print(os.path.isfile(linken + \"Animal.jpeg\"))"
      ],
      "execution_count": 0,
      "outputs": []
    },
    {
      "cell_type": "code",
      "metadata": {
        "id": "2HJQblkNHR6Y",
        "colab_type": "code",
        "colab": {}
      },
      "source": [
        "def segmentObjects1(pic):\n",
        "  from pylab import imread\n",
        "  from skimage.color import rgb2gray\n",
        "  import cv2\n",
        "  import numpy as np\n",
        "\n",
        "  imglink= linken + pic\n",
        "  img = imread(imglink)\n",
        "  gray = cv2.cvtColor(img, cv2.COLOR_BGR2GRAY)\n",
        "  #imshows([img, gray],[\"Image\",\"Gray\"],1,2)\n",
        "\n",
        "  gray_blur = cv2.GaussianBlur(gray,(5,5),0)\n",
        "  #gray_blur = cv2.bilateralFilter(gray,9,50,50)\n",
        "  threshing = cv2.adaptiveThreshold(gray_blur, 255,\n",
        "                         cv2.ADAPTIVE_THRESH_GAUSSIAN_C,cv2.THRESH_BINARY_INV, 11,1)\n",
        "  #imshows([img, gray, gray_blur, threshing],['img','gray','gray_blur','threshing'],2,2)\n",
        "\n",
        "  from skimage.morphology import erosion, dilation, closing, white_tophat\n",
        "  from skimage.morphology import black_tophat, skeletonize, convex_hull_image\n",
        "  from skimage.morphology import disk\n",
        "\n",
        "  selem = disk(3)\n",
        "  eroded = erosion(threshing, selem)\n",
        "  image_removenoise = dilation(eroded, selem)\n",
        "\n",
        "  kernel = np.ones((7,7),np.uint8)\n",
        "  closing = cv2.morphologyEx(image_removenoise, cv2.MORPH_CLOSE, kernel, iterations=4)\n",
        "\n",
        "  selem = disk(5)\n",
        "  closing = erosion(closing, selem)\n",
        "  closing = dilation(closing, selem)\n",
        "\n",
        "  #imshows([threshing, image_removenoise, closing],['threshing', 'image_removenoise','closing'],1,3)\n",
        "  from scipy import ndimage\n",
        "\n",
        "  cont_img = closing.copy()\n",
        "  roi = img.copy()\n",
        "  img_fill_holes = ndimage.binary_fill_holes(cont_img)\n",
        "  inv2, contours, hierarchy = cv2.findContours(img_fill_holes.astype(np.uint8),cv2.RETR_EXTERNAL,cv2.CHAIN_APPROX_SIMPLE)\n",
        "\n",
        "  cv2.drawContours(roi, contours, -1,(255,0,0),10)\n",
        "  #imshows([closing, img_fill_holes, roi],['closing','img_fill_holes','roi'],1,3)\n",
        "\n",
        "  imshows([img, roi],['IMG', 'ROI'],1,2)"
      ],
      "execution_count": 0,
      "outputs": []
    },
    {
      "cell_type": "code",
      "metadata": {
        "id": "NTEwVXLPPOID",
        "colab_type": "code",
        "colab": {}
      },
      "source": [
        " def segmentObjects2(pic):\n",
        "  import numpy as np\n",
        "  import cv2\n",
        "  from matplotlib import pyplot as plt\n",
        "\n",
        "  imglink= linken + pic\n",
        "  img = cv2.imread(imglink)\n",
        "  gray = cv2.cvtColor(img, cv2.COLOR_BGR2GRAY)\n",
        "\n",
        "  gray_blur = cv2.GaussianBlur(gray,(15,15),0)\n",
        "  gray_blur = cv2.bilateralFilter(gray,25,125,125)\n",
        "  threshing = cv2.adaptiveThreshold(gray_blur, 255, cv2.ADAPTIVE_THRESH_GAUSSIAN_C, cv2.THRESH_BINARY_INV,11,1)\n",
        "\n",
        "  #imshows([img, gray, gray_blur, threshing],['img','gray','gray_blur','threshing'],2,2)\n",
        "\n",
        "  from skimage.morphology import erosion, dilation, opening, closing, white_tophat\n",
        "  from skimage.morphology import black_tophat, skeletonize, convex_hull_image\n",
        "  from skimage.morphology import disk\n",
        "\n",
        "  selem = disk(3)\n",
        "  eroded = erosion(threshing, selem)\n",
        "  image_removenoise = dilation(eroded,selem)\n",
        "\n",
        "  kernel = np.ones((3,3), np.uint8)\n",
        "  closing = cv2.morphologyEx(image_removenoise, cv2.MORPH_CLOSE, kernel, iterations=4)\n",
        "\n",
        "  #imshows([threshing, image_removenoise, closing],['threshing','image_removenoise','closing'],1,3)\n",
        "\n",
        "  from scipy import ndimage\n",
        "  roi = img.copy()\n",
        "  cont_img = closing.copy()\n",
        "  img_fill_holes = ndimage.binary_fill_holes(cont_img)\n",
        "  im2, contours, hierarchy = cv2.findContours(img_fill_holes.astype(np.uint8),\n",
        "                                         cv2.RETR_EXTERNAL,cv2.CHAIN_APPROX_SIMPLE)\n",
        "  cv2.drawContours(roi, contours, -1, (0, 255, 0), 5)\n",
        "\n",
        "  #imshows([cont_img, img_fill_holes, roi],['closing','img_fill_holes','roi'],1,3)\n",
        "  imshows([img, roi],['IMG', 'ROI'],1,2)"
      ],
      "execution_count": 0,
      "outputs": []
    },
    {
      "cell_type": "code",
      "metadata": {
        "id": "-1tDkrz2LmMQ",
        "colab_type": "code",
        "colab": {}
      },
      "source": [
        "segObj1 = \"Animal.jpeg\",\"cat.jpg\",\"Flower.jpeg\",\"Hand Sign.jpg\",\"table.jpg\",\"traffic sign.jpg\"\n",
        "for pic in segObj1:\n",
        "  segmentObjects1(pic)"
      ],
      "execution_count": 0,
      "outputs": []
    },
    {
      "cell_type": "code",
      "metadata": {
        "id": "zuW0QLyrYgqu",
        "colab_type": "code",
        "colab": {}
      },
      "source": [
        "segObj2 = \"coin-detection.jpg\",\"gray_image.png\"\n",
        "for pic in segObj2:\n",
        "  segmentObjects2(pic)"
      ],
      "execution_count": 0,
      "outputs": []
    }
  ]
}